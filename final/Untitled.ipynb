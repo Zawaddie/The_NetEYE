{
 "cells": [
  {
   "cell_type": "code",
   "execution_count": 1,
   "id": "1f0e075a-799a-4be2-9dbf-e7079c222e38",
   "metadata": {},
   "outputs": [],
   "source": [
    "# get the columns to be renamed\n",
    "\n",
    "rename_cols = {'flow_duration': 'Flow Duration',\n",
    " 'flow_iat_mean': 'Flow IAT Mean',\n",
    " 'flow_iat_std': 'Flow IAT Std',\n",
    " 'flow_iat_max': 'Flow IAT Max',\n",
    " 'flow_iat_min': 'Flow IAT Min',\n",
    " 'fwd_iat_mean': 'Fwd IAT Mean',\n",
    " 'fwd_iat_std': 'Fwd IAT Std',\n",
    " 'fwd_iat_max': 'Fwd IAT Max',\n",
    " 'fwd_iat_min': 'Fwd IAT Min',\n",
    " 'bwd_iat_mean': 'Bwd IAT Mean',\n",
    " 'bwd_iat_std': 'Bwd IAT Std',\n",
    " 'bwd_iat_max': 'Bwd IAT Max',\n",
    " 'bwd_iat_min': 'Bwd IAT Min',\n",
    " 'fwd_psh_flags': 'Fwd PSH Flags',\n",
    " 'bwd_psh_flags': 'Bwd PSH Flags',\n",
    " 'fwd_urg_flags': 'Fwd URG Flags',\n",
    " 'bwd_urg_flags': 'Bwd URG Flags',\n",
    " 'cwe_flag_count': 'CWE Flag Count',\n",
    " 'active_mean': 'Active Mean',\n",
    " 'active_std': 'Active Std',\n",
    " 'active_max': 'Active Max',\n",
    " 'active_min': 'Active Min',\n",
    " 'idle_mean': 'Idle Mean',\n",
    " 'idle_std': 'Idle Std',\n",
    " 'idle_max': 'Idle Max',\n",
    " 'idle_min': 'Idle Min',\n",
    " 'tot_fwd_pkts': 'Total Fwd Packets',\n",
    " 'tot_bwd_pkts': 'Total Backward Packets',\n",
    " 'totlen_fwd_pkts': 'Total Length of Fwd Packets',\n",
    " 'totlen_bwd_pkts': 'Total Length of Bwd Packets',\n",
    " 'fwd_pkt_len_max': 'Fwd Packet Length Max',\n",
    " 'protocol': 'Fwd Header Length.1',\n",
    " 'fwd_pkt_len_mean': 'Fwd Packet Length Mean',\n",
    " 'fwd_pkt_len_std': 'Fwd Packet Length Std',\n",
    " 'bwd_pkt_len_max': 'Bwd Packet Length Max',\n",
    " 'bwd_pkt_len_min': 'Bwd Packet Length Min',\n",
    " 'bwd_pkt_len_mean': 'Bwd Packet Length Mean',\n",
    " 'bwd_pkt_len_std': 'Bwd Packet Length Std',\n",
    " 'flow_byts_s': 'Flow Bytes/s',\n",
    " 'flow_pkts_s': 'Flow Packets/s',\n",
    " 'fwd_iat_tot': 'Fwd IAT Total',\n",
    " 'bwd_iat_tot': 'Bwd IAT Total',\n",
    " 'fwd_header_len': 'Fwd Header Length',\n",
    " 'bwd_header_len': 'Bwd Header Length',\n",
    " 'fwd_pkts_s': 'Fwd Packets/s',\n",
    " 'bwd_pkts_s': 'Bwd Packets/s',\n",
    " 'pkt_len_min': 'Min Packet Length',\n",
    " 'pkt_len_max': 'Max Packet Length',\n",
    " 'pkt_len_mean': 'Packet Length Mean',\n",
    " 'pkt_len_std': 'Packet Length Std',\n",
    " 'pkt_len_var': 'Packet Length Variance',\n",
    " 'fin_flag_cnt': 'FIN Flag Count',\n",
    " 'syn_flag_cnt': 'SYN Flag Count',\n",
    " 'rst_flag_cnt': 'RST Flag Count',\n",
    " 'psh_flag_cnt': 'PSH Flag Count',\n",
    " 'ack_flag_cnt': 'ACK Flag Count',\n",
    " 'urg_flag_cnt': 'URG Flag Count',\n",
    " 'ece_flag_cnt': 'ECE Flag Count',\n",
    " 'down_up_ratio': 'Down/Up Ratio',\n",
    " 'pkt_size_avg': 'Average Packet Size',\n",
    " 'subflow_fwd_pkts': 'Subflow Fwd Packets',\n",
    " 'subflow_fwd_byts': 'Subflow Fwd Bytes',\n",
    " 'subflow_bwd_pkts': 'Subflow Bwd Packets',\n",
    " 'subflow_bwd_byts': 'Subflow Bwd Bytes',\n",
    " 'init_fwd_win_byts': 'Init_Win_bytes_forward',\n",
    " 'init_bwd_win_byts': 'Init_Win_bytes_backward',\n",
    " 'fwd_seg_size_avg': 'Avg Fwd Segment Size',\n",
    " 'bwd_seg_size_avg': 'Avg Bwd Segment Size',\n",
    " 'fwd_seg_size_min': 'min_seg_size_forward',\n",
    " 'fwd_byts_b_avg': 'Fwd Avg Bytes/Bulk',\n",
    " 'fwd_pkts_b_avg': 'Fwd Avg Packets/Bulk',\n",
    " 'fwd_blk_rate_avg': 'Fwd Avg Bulk Rate',\n",
    " 'bwd_byts_b_avg': 'Bwd Avg Bytes/Bulk',\n",
    " 'bwd_pkts_b_avg': 'Bwd Avg Packets/Bulk',\n",
    " 'bwd_blk_rate_avg': 'Bwd Avg Bulk Rate',\n",
    " 'fwd_act_data_pkts': 'act_data_pkt_fwd',\n",
    " 'fwd_pkt_len_min': 'Fwd Packet Length Min',\n",
    " 'dst_port': 'Destination Port'}\n",
    "\n",
    "\n",
    "\n",
    "# training columns\n",
    "\n",
    "\n",
    "# training columns\n",
    "train_cols =['Destination Port', 'Flow Duration', 'Total Fwd Packets',\n",
    "       'Total Backward Packets', 'Total Length of Fwd Packets',\n",
    "       'Total Length of Bwd Packets', 'Fwd Packet Length Max',\n",
    "       'Fwd Packet Length Min', 'Fwd Packet Length Mean',\n",
    "       'Fwd Packet Length Std', 'Bwd Packet Length Max',\n",
    "       'Bwd Packet Length Min', 'Bwd Packet Length Mean',\n",
    "       'Bwd Packet Length Std', 'Flow Bytes/s', 'Flow Packets/s',\n",
    "       'Flow IAT Mean', 'Flow IAT Std', 'Flow IAT Max', 'Flow IAT Min',\n",
    "       'Fwd IAT Total', 'Fwd IAT Mean', 'Fwd IAT Std', 'Fwd IAT Max',\n",
    "       'Fwd IAT Min', 'Bwd IAT Total', 'Bwd IAT Mean', 'Bwd IAT Std',\n",
    "       'Bwd IAT Max', 'Bwd IAT Min', 'Fwd PSH Flags', 'Fwd URG Flags',\n",
    "       'Fwd Header Length', 'Bwd Header Length', 'Fwd Packets/s',\n",
    "       'Bwd Packets/s', 'Min Packet Length', 'Max Packet Length',\n",
    "       'Packet Length Mean', 'Packet Length Std', 'Packet Length Variance',\n",
    "       'FIN Flag Count', 'SYN Flag Count', 'RST Flag Count', 'PSH Flag Count',\n",
    "       'ACK Flag Count', 'URG Flag Count', 'CWE Flag Count', 'ECE Flag Count',\n",
    "       'Down/Up Ratio', 'Average Packet Size', 'Avg Fwd Segment Size',\n",
    "       'Avg Bwd Segment Size', 'Fwd Header Length.1', 'Subflow Fwd Packets',\n",
    "       'Subflow Fwd Bytes', 'Subflow Bwd Packets', 'Subflow Bwd Bytes',\n",
    "       'Init_Win_bytes_forward', 'Init_Win_bytes_backward', 'act_data_pkt_fwd',\n",
    "       'min_seg_size_forward', 'Active Mean', 'Active Std', 'Active Max',\n",
    "       'Active Min', 'Idle Mean', 'Idle Std', 'Idle Max', 'Idle Min']\n",
    "\n",
    "\n",
    "\n",
    "import os,re"
   ]
  },
  {
   "cell_type": "code",
   "execution_count": 2,
   "id": "d51df4c8-93f0-4d52-978b-0dfbf27e334b",
   "metadata": {},
   "outputs": [],
   "source": [
    "\n",
    "import pandas as pd\n",
    "import numpy as np\n"
   ]
  },
  {
   "cell_type": "code",
   "execution_count": 3,
   "id": "1a6076e2-48ac-4f5f-bd3e-5abea46cd9f2",
   "metadata": {},
   "outputs": [],
   "source": [
    "# sample data\n",
    "sample_data = {'src_ip': '127.0.0.1', 'dst_ip': '127.0.0.1', 'src_port': 42288, 'dst_port': 53, 'src_mac': '00:00:00:00:00:00', 'dst_mac': '00:00:00:00:00:00', 'protocol': 17, 'timestamp': '2023-01-19 21:10:02', 'flow_duration': 0.95367431640625, 'flow_byts_s': 157286400.0, 'flow_pkts_s': 2097152.0, 'fwd_pkts_s': 2097152.0, 'bwd_pkts_s': 0.0, 'tot_fwd_pkts': 2, 'tot_bwd_pkts': 0, 'totlen_fwd_pkts': 150, 'totlen_bwd_pkts': 0, 'fwd_pkt_len_max': 75.0, 'fwd_pkt_len_min': 75.0, 'fwd_pkt_len_mean': 75.0, 'fwd_pkt_len_std': 0.0, 'bwd_pkt_len_max': 0.0, 'bwd_pkt_len_min': 0.0, 'bwd_pkt_len_mean': 0.0, 'bwd_pkt_len_std': 0.0, 'pkt_len_max': 75, 'pkt_len_min': 75, 'pkt_len_mean': 75.0, 'pkt_len_std': 0.0, 'pkt_len_var': 0.0, 'fwd_header_len': 16, 'bwd_header_len': 0, 'fwd_seg_size_min': 8, 'fwd_act_data_pkts': 2, 'flow_iat_mean': 0.0, 'flow_iat_max': 0.0, 'flow_iat_min': 0.0, 'flow_iat_std': 0.0, 'fwd_iat_tot': 0, 'fwd_iat_max': 0.0, 'fwd_iat_min': 0.0, 'fwd_iat_mean': 0.0, 'fwd_iat_std': 0.0, 'bwd_iat_tot': 0.0, 'bwd_iat_max': 0.0, 'bwd_iat_min': 0.0, 'bwd_iat_mean': 0.0, 'bwd_iat_std': 0.0, 'fwd_psh_flags': 0, 'bwd_psh_flags': 0, 'fwd_urg_flags': 0, 'bwd_urg_flags': 0, 'fin_flag_cnt': 1, 'syn_flag_cnt': 0, 'rst_flag_cnt': 0, 'psh_flag_cnt': 0, 'ack_flag_cnt': 0, 'urg_flag_cnt': 0, 'ece_flag_cnt': 0, 'down_up_ratio': 0.0, 'pkt_size_avg': 75.0, 'init_fwd_win_byts': 0, 'init_bwd_win_byts': 0, 'active_max': 0.0, 'active_min': 0.0, 'active_mean': 0.0, 'active_std': 0.0, 'idle_max': 0.0, 'idle_min': 0.0, 'idle_mean': 0.0, 'idle_std': 0.0, 'fwd_byts_b_avg': 0.0, 'fwd_pkts_b_avg': 0.0, 'bwd_byts_b_avg': 0.0, 'bwd_pkts_b_avg': 0.0, 'fwd_blk_rate_avg': 0.0, 'bwd_blk_rate_avg': 0.0, 'fwd_seg_size_avg': 75.0, 'bwd_seg_size_avg': 0.0, 'cwe_flag_count': 0, 'subflow_fwd_pkts': 2, 'subflow_bwd_pkts': 0, 'subflow_fwd_byts': 150, 'subflow_bwd_byts': 0}\n"
   ]
  },
  {
   "cell_type": "code",
   "execution_count": 5,
   "id": "edc0eb72-47dd-4310-9320-9393606292f4",
   "metadata": {},
   "outputs": [
    {
     "data": {
      "text/html": [
       "<div>\n",
       "<style scoped>\n",
       "    .dataframe tbody tr th:only-of-type {\n",
       "        vertical-align: middle;\n",
       "    }\n",
       "\n",
       "    .dataframe tbody tr th {\n",
       "        vertical-align: top;\n",
       "    }\n",
       "\n",
       "    .dataframe thead th {\n",
       "        text-align: right;\n",
       "    }\n",
       "</style>\n",
       "<table border=\"1\" class=\"dataframe\">\n",
       "  <thead>\n",
       "    <tr style=\"text-align: right;\">\n",
       "      <th></th>\n",
       "      <th>src_ip</th>\n",
       "      <th>dst_ip</th>\n",
       "      <th>src_port</th>\n",
       "      <th>dst_port</th>\n",
       "      <th>src_mac</th>\n",
       "      <th>dst_mac</th>\n",
       "      <th>protocol</th>\n",
       "      <th>timestamp</th>\n",
       "      <th>flow_duration</th>\n",
       "      <th>flow_byts_s</th>\n",
       "      <th>...</th>\n",
       "      <th>bwd_pkts_b_avg</th>\n",
       "      <th>fwd_blk_rate_avg</th>\n",
       "      <th>bwd_blk_rate_avg</th>\n",
       "      <th>fwd_seg_size_avg</th>\n",
       "      <th>bwd_seg_size_avg</th>\n",
       "      <th>cwe_flag_count</th>\n",
       "      <th>subflow_fwd_pkts</th>\n",
       "      <th>subflow_bwd_pkts</th>\n",
       "      <th>subflow_fwd_byts</th>\n",
       "      <th>subflow_bwd_byts</th>\n",
       "    </tr>\n",
       "  </thead>\n",
       "  <tbody>\n",
       "    <tr>\n",
       "      <th>0</th>\n",
       "      <td>127.0.0.1</td>\n",
       "      <td>127.0.0.1</td>\n",
       "      <td>42288</td>\n",
       "      <td>53</td>\n",
       "      <td>00:00:00:00:00:00</td>\n",
       "      <td>00:00:00:00:00:00</td>\n",
       "      <td>17</td>\n",
       "      <td>2023-01-19 21:10:02</td>\n",
       "      <td>0.953674</td>\n",
       "      <td>157286400.0</td>\n",
       "      <td>...</td>\n",
       "      <td>0.0</td>\n",
       "      <td>0.0</td>\n",
       "      <td>0.0</td>\n",
       "      <td>75.0</td>\n",
       "      <td>0.0</td>\n",
       "      <td>0</td>\n",
       "      <td>2</td>\n",
       "      <td>0</td>\n",
       "      <td>150</td>\n",
       "      <td>0</td>\n",
       "    </tr>\n",
       "  </tbody>\n",
       "</table>\n",
       "<p>1 rows × 84 columns</p>\n",
       "</div>"
      ],
      "text/plain": [
       "      src_ip     dst_ip  src_port  dst_port            src_mac  \\\n",
       "0  127.0.0.1  127.0.0.1     42288        53  00:00:00:00:00:00   \n",
       "\n",
       "             dst_mac  protocol            timestamp  flow_duration  \\\n",
       "0  00:00:00:00:00:00        17  2023-01-19 21:10:02       0.953674   \n",
       "\n",
       "   flow_byts_s  ...  bwd_pkts_b_avg  fwd_blk_rate_avg  bwd_blk_rate_avg  \\\n",
       "0  157286400.0  ...             0.0               0.0               0.0   \n",
       "\n",
       "   fwd_seg_size_avg  bwd_seg_size_avg  cwe_flag_count  subflow_fwd_pkts  \\\n",
       "0              75.0               0.0               0                 2   \n",
       "\n",
       "   subflow_bwd_pkts  subflow_fwd_byts  subflow_bwd_byts  \n",
       "0                 0               150                 0  \n",
       "\n",
       "[1 rows x 84 columns]"
      ]
     },
     "execution_count": 5,
     "metadata": {},
     "output_type": "execute_result"
    }
   ],
   "source": [
    "curr_data = pd.DataFrame(sample_data, index=[0])\n",
    "\n",
    "curr_data"
   ]
  },
  {
   "cell_type": "code",
   "execution_count": 6,
   "id": "aeac64f4-2fa9-42c7-bc1f-35e76a0e3cbc",
   "metadata": {},
   "outputs": [
    {
     "data": {
      "text/html": [
       "<div>\n",
       "<style scoped>\n",
       "    .dataframe tbody tr th:only-of-type {\n",
       "        vertical-align: middle;\n",
       "    }\n",
       "\n",
       "    .dataframe tbody tr th {\n",
       "        vertical-align: top;\n",
       "    }\n",
       "\n",
       "    .dataframe thead th {\n",
       "        text-align: right;\n",
       "    }\n",
       "</style>\n",
       "<table border=\"1\" class=\"dataframe\">\n",
       "  <thead>\n",
       "    <tr style=\"text-align: right;\">\n",
       "      <th></th>\n",
       "      <th>src_ip</th>\n",
       "      <th>dst_ip</th>\n",
       "      <th>src_port</th>\n",
       "      <th>src_mac</th>\n",
       "      <th>dst_mac</th>\n",
       "      <th>timestamp</th>\n",
       "    </tr>\n",
       "  </thead>\n",
       "  <tbody>\n",
       "    <tr>\n",
       "      <th>0</th>\n",
       "      <td>127.0.0.1</td>\n",
       "      <td>127.0.0.1</td>\n",
       "      <td>42288</td>\n",
       "      <td>00:00:00:00:00:00</td>\n",
       "      <td>00:00:00:00:00:00</td>\n",
       "      <td>2023-01-19 21:10:02</td>\n",
       "    </tr>\n",
       "  </tbody>\n",
       "</table>\n",
       "</div>"
      ],
      "text/plain": [
       "      src_ip     dst_ip  src_port            src_mac            dst_mac  \\\n",
       "0  127.0.0.1  127.0.0.1     42288  00:00:00:00:00:00  00:00:00:00:00:00   \n",
       "\n",
       "             timestamp  \n",
       "0  2023-01-19 21:10:02  "
      ]
     },
     "execution_count": 6,
     "metadata": {},
     "output_type": "execute_result"
    }
   ],
   "source": [
    "basic_info = curr_data[['src_ip', 'dst_ip', 'src_port', 'src_mac', 'dst_mac', 'timestamp']]\n",
    "basic_info"
   ]
  },
  {
   "cell_type": "code",
   "execution_count": 9,
   "id": "a92c7a78-6d4a-4363-ae8d-05d6b0ee7eab",
   "metadata": {},
   "outputs": [
    {
     "data": {
      "text/html": [
       "<div>\n",
       "<style scoped>\n",
       "    .dataframe tbody tr th:only-of-type {\n",
       "        vertical-align: middle;\n",
       "    }\n",
       "\n",
       "    .dataframe tbody tr th {\n",
       "        vertical-align: top;\n",
       "    }\n",
       "\n",
       "    .dataframe thead th {\n",
       "        text-align: right;\n",
       "    }\n",
       "</style>\n",
       "<table border=\"1\" class=\"dataframe\">\n",
       "  <thead>\n",
       "    <tr style=\"text-align: right;\">\n",
       "      <th></th>\n",
       "      <th>src_ip</th>\n",
       "      <th>dst_ip</th>\n",
       "      <th>src_port</th>\n",
       "      <th>Destination Port</th>\n",
       "      <th>src_mac</th>\n",
       "      <th>dst_mac</th>\n",
       "      <th>Fwd Header Length.1</th>\n",
       "      <th>timestamp</th>\n",
       "      <th>Flow Duration</th>\n",
       "      <th>Flow Bytes/s</th>\n",
       "      <th>...</th>\n",
       "      <th>Bwd Avg Packets/Bulk</th>\n",
       "      <th>Fwd Avg Bulk Rate</th>\n",
       "      <th>Bwd Avg Bulk Rate</th>\n",
       "      <th>Avg Fwd Segment Size</th>\n",
       "      <th>Avg Bwd Segment Size</th>\n",
       "      <th>CWE Flag Count</th>\n",
       "      <th>Subflow Fwd Packets</th>\n",
       "      <th>Subflow Bwd Packets</th>\n",
       "      <th>Subflow Fwd Bytes</th>\n",
       "      <th>Subflow Bwd Bytes</th>\n",
       "    </tr>\n",
       "  </thead>\n",
       "  <tbody>\n",
       "    <tr>\n",
       "      <th>0</th>\n",
       "      <td>127.0.0.1</td>\n",
       "      <td>127.0.0.1</td>\n",
       "      <td>42288</td>\n",
       "      <td>53</td>\n",
       "      <td>00:00:00:00:00:00</td>\n",
       "      <td>00:00:00:00:00:00</td>\n",
       "      <td>17</td>\n",
       "      <td>2023-01-19 21:10:02</td>\n",
       "      <td>0.953674</td>\n",
       "      <td>157286400.0</td>\n",
       "      <td>...</td>\n",
       "      <td>0.0</td>\n",
       "      <td>0.0</td>\n",
       "      <td>0.0</td>\n",
       "      <td>75.0</td>\n",
       "      <td>0.0</td>\n",
       "      <td>0</td>\n",
       "      <td>2</td>\n",
       "      <td>0</td>\n",
       "      <td>150</td>\n",
       "      <td>0</td>\n",
       "    </tr>\n",
       "  </tbody>\n",
       "</table>\n",
       "<p>1 rows × 84 columns</p>\n",
       "</div>"
      ],
      "text/plain": [
       "      src_ip     dst_ip  src_port  Destination Port            src_mac  \\\n",
       "0  127.0.0.1  127.0.0.1     42288                53  00:00:00:00:00:00   \n",
       "\n",
       "             dst_mac  Fwd Header Length.1            timestamp  Flow Duration  \\\n",
       "0  00:00:00:00:00:00                   17  2023-01-19 21:10:02       0.953674   \n",
       "\n",
       "   Flow Bytes/s  ...  Bwd Avg Packets/Bulk  Fwd Avg Bulk Rate  \\\n",
       "0   157286400.0  ...                   0.0                0.0   \n",
       "\n",
       "   Bwd Avg Bulk Rate  Avg Fwd Segment Size  Avg Bwd Segment Size  \\\n",
       "0                0.0                  75.0                   0.0   \n",
       "\n",
       "   CWE Flag Count  Subflow Fwd Packets  Subflow Bwd Packets  \\\n",
       "0               0                    2                    0   \n",
       "\n",
       "   Subflow Fwd Bytes  Subflow Bwd Bytes  \n",
       "0                150                  0  \n",
       "\n",
       "[1 rows x 84 columns]"
      ]
     },
     "execution_count": 9,
     "metadata": {},
     "output_type": "execute_result"
    }
   ],
   "source": [
    "d =curr_data.rename(columns=rename_cols)\n",
    "d"
   ]
  },
  {
   "cell_type": "code",
   "execution_count": 10,
   "id": "08d2d52e-f42a-4ab9-99cd-f359f3e35812",
   "metadata": {},
   "outputs": [
    {
     "data": {
      "text/html": [
       "<div>\n",
       "<style scoped>\n",
       "    .dataframe tbody tr th:only-of-type {\n",
       "        vertical-align: middle;\n",
       "    }\n",
       "\n",
       "    .dataframe tbody tr th {\n",
       "        vertical-align: top;\n",
       "    }\n",
       "\n",
       "    .dataframe thead th {\n",
       "        text-align: right;\n",
       "    }\n",
       "</style>\n",
       "<table border=\"1\" class=\"dataframe\">\n",
       "  <thead>\n",
       "    <tr style=\"text-align: right;\">\n",
       "      <th></th>\n",
       "      <th>Destination Port</th>\n",
       "      <th>Flow Duration</th>\n",
       "      <th>Total Fwd Packets</th>\n",
       "      <th>Total Backward Packets</th>\n",
       "      <th>Total Length of Fwd Packets</th>\n",
       "      <th>Total Length of Bwd Packets</th>\n",
       "      <th>Fwd Packet Length Max</th>\n",
       "      <th>Fwd Packet Length Min</th>\n",
       "      <th>Fwd Packet Length Mean</th>\n",
       "      <th>Fwd Packet Length Std</th>\n",
       "      <th>...</th>\n",
       "      <th>act_data_pkt_fwd</th>\n",
       "      <th>min_seg_size_forward</th>\n",
       "      <th>Active Mean</th>\n",
       "      <th>Active Std</th>\n",
       "      <th>Active Max</th>\n",
       "      <th>Active Min</th>\n",
       "      <th>Idle Mean</th>\n",
       "      <th>Idle Std</th>\n",
       "      <th>Idle Max</th>\n",
       "      <th>Idle Min</th>\n",
       "    </tr>\n",
       "  </thead>\n",
       "  <tbody>\n",
       "    <tr>\n",
       "      <th>0</th>\n",
       "      <td>53</td>\n",
       "      <td>0.953674</td>\n",
       "      <td>2</td>\n",
       "      <td>0</td>\n",
       "      <td>150</td>\n",
       "      <td>0</td>\n",
       "      <td>75.0</td>\n",
       "      <td>75.0</td>\n",
       "      <td>75.0</td>\n",
       "      <td>0.0</td>\n",
       "      <td>...</td>\n",
       "      <td>2</td>\n",
       "      <td>8</td>\n",
       "      <td>0.0</td>\n",
       "      <td>0.0</td>\n",
       "      <td>0.0</td>\n",
       "      <td>0.0</td>\n",
       "      <td>0.0</td>\n",
       "      <td>0.0</td>\n",
       "      <td>0.0</td>\n",
       "      <td>0.0</td>\n",
       "    </tr>\n",
       "  </tbody>\n",
       "</table>\n",
       "<p>1 rows × 70 columns</p>\n",
       "</div>"
      ],
      "text/plain": [
       "   Destination Port  Flow Duration  Total Fwd Packets  Total Backward Packets  \\\n",
       "0                53       0.953674                  2                       0   \n",
       "\n",
       "   Total Length of Fwd Packets  Total Length of Bwd Packets  \\\n",
       "0                          150                            0   \n",
       "\n",
       "   Fwd Packet Length Max  Fwd Packet Length Min  Fwd Packet Length Mean  \\\n",
       "0                   75.0                   75.0                    75.0   \n",
       "\n",
       "   Fwd Packet Length Std  ...  act_data_pkt_fwd  min_seg_size_forward  \\\n",
       "0                    0.0  ...                 2                     8   \n",
       "\n",
       "   Active Mean  Active Std  Active Max  Active Min  Idle Mean  Idle Std  \\\n",
       "0          0.0         0.0         0.0         0.0        0.0       0.0   \n",
       "\n",
       "   Idle Max  Idle Min  \n",
       "0       0.0       0.0  \n",
       "\n",
       "[1 rows x 70 columns]"
      ]
     },
     "execution_count": 10,
     "metadata": {},
     "output_type": "execute_result"
    }
   ],
   "source": [
    "dd = d[train_cols]\n",
    "dd"
   ]
  },
  {
   "cell_type": "code",
   "execution_count": 12,
   "id": "11c2f48b-29a4-4ce9-b594-ba9727b3e7cc",
   "metadata": {},
   "outputs": [
    {
     "data": {
      "text/plain": [
       "array([[5.30000000e+01, 9.53674316e-01, 2.00000000e+00, 0.00000000e+00,\n",
       "        1.50000000e+02, 0.00000000e+00, 7.50000000e+01, 7.50000000e+01,\n",
       "        7.50000000e+01, 0.00000000e+00, 0.00000000e+00, 0.00000000e+00,\n",
       "        0.00000000e+00, 0.00000000e+00, 1.57286400e+08, 2.09715200e+06,\n",
       "        0.00000000e+00, 0.00000000e+00, 0.00000000e+00, 0.00000000e+00,\n",
       "        0.00000000e+00, 0.00000000e+00, 0.00000000e+00, 0.00000000e+00,\n",
       "        0.00000000e+00, 0.00000000e+00, 0.00000000e+00, 0.00000000e+00,\n",
       "        0.00000000e+00, 0.00000000e+00, 0.00000000e+00, 0.00000000e+00,\n",
       "        1.60000000e+01, 0.00000000e+00, 2.09715200e+06, 0.00000000e+00,\n",
       "        7.50000000e+01, 7.50000000e+01, 7.50000000e+01, 0.00000000e+00,\n",
       "        0.00000000e+00, 1.00000000e+00, 0.00000000e+00, 0.00000000e+00,\n",
       "        0.00000000e+00, 0.00000000e+00, 0.00000000e+00, 0.00000000e+00,\n",
       "        0.00000000e+00, 0.00000000e+00, 7.50000000e+01, 7.50000000e+01,\n",
       "        0.00000000e+00, 1.70000000e+01, 2.00000000e+00, 1.50000000e+02,\n",
       "        0.00000000e+00, 0.00000000e+00, 0.00000000e+00, 0.00000000e+00,\n",
       "        2.00000000e+00, 8.00000000e+00, 0.00000000e+00, 0.00000000e+00,\n",
       "        0.00000000e+00, 0.00000000e+00, 0.00000000e+00, 0.00000000e+00,\n",
       "        0.00000000e+00, 0.00000000e+00]])"
      ]
     },
     "execution_count": 12,
     "metadata": {},
     "output_type": "execute_result"
    }
   ],
   "source": [
    "ddd = dd.values\n",
    "ddd"
   ]
  },
  {
   "cell_type": "code",
   "execution_count": 13,
   "id": "87deb890-ef33-4317-b04d-7a20936ffe43",
   "metadata": {},
   "outputs": [],
   "source": [
    "# load the model\n",
    "rf_clf = pd.read_pickle(\"./rf_clf.pkl\")\n",
    "lbl_encoder = pd.read_pickle(\"./encoder.pkl\")"
   ]
  },
  {
   "cell_type": "code",
   "execution_count": 27,
   "id": "e41d83ad-4236-423a-85c0-0f44f9d673d0",
   "metadata": {},
   "outputs": [],
   "source": [
    "# from sklearn.ensemble import RandomForestClassifier\n",
    "\n",
    "# r = RandomForestClassifier()"
   ]
  },
  {
   "cell_type": "code",
   "execution_count": 26,
   "id": "ec1cb116-3ea0-43b3-a3e2-ee4ab4311ca2",
   "metadata": {},
   "outputs": [
    {
     "data": {
      "text/plain": [
       "(70,)"
      ]
     },
     "execution_count": 26,
     "metadata": {},
     "output_type": "execute_result"
    }
   ],
   "source": [
    "# r.feature_importances_,\n"
   ]
  },
  {
   "cell_type": "code",
   "execution_count": 14,
   "id": "255e9599-4751-4a4e-943d-d670d1d219ac",
   "metadata": {},
   "outputs": [
    {
     "data": {
      "text/html": [
       "<style>#sk-container-id-1 {color: black;background-color: white;}#sk-container-id-1 pre{padding: 0;}#sk-container-id-1 div.sk-toggleable {background-color: white;}#sk-container-id-1 label.sk-toggleable__label {cursor: pointer;display: block;width: 100%;margin-bottom: 0;padding: 0.3em;box-sizing: border-box;text-align: center;}#sk-container-id-1 label.sk-toggleable__label-arrow:before {content: \"▸\";float: left;margin-right: 0.25em;color: #696969;}#sk-container-id-1 label.sk-toggleable__label-arrow:hover:before {color: black;}#sk-container-id-1 div.sk-estimator:hover label.sk-toggleable__label-arrow:before {color: black;}#sk-container-id-1 div.sk-toggleable__content {max-height: 0;max-width: 0;overflow: hidden;text-align: left;background-color: #f0f8ff;}#sk-container-id-1 div.sk-toggleable__content pre {margin: 0.2em;color: black;border-radius: 0.25em;background-color: #f0f8ff;}#sk-container-id-1 input.sk-toggleable__control:checked~div.sk-toggleable__content {max-height: 200px;max-width: 100%;overflow: auto;}#sk-container-id-1 input.sk-toggleable__control:checked~label.sk-toggleable__label-arrow:before {content: \"▾\";}#sk-container-id-1 div.sk-estimator input.sk-toggleable__control:checked~label.sk-toggleable__label {background-color: #d4ebff;}#sk-container-id-1 div.sk-label input.sk-toggleable__control:checked~label.sk-toggleable__label {background-color: #d4ebff;}#sk-container-id-1 input.sk-hidden--visually {border: 0;clip: rect(1px 1px 1px 1px);clip: rect(1px, 1px, 1px, 1px);height: 1px;margin: -1px;overflow: hidden;padding: 0;position: absolute;width: 1px;}#sk-container-id-1 div.sk-estimator {font-family: monospace;background-color: #f0f8ff;border: 1px dotted black;border-radius: 0.25em;box-sizing: border-box;margin-bottom: 0.5em;}#sk-container-id-1 div.sk-estimator:hover {background-color: #d4ebff;}#sk-container-id-1 div.sk-parallel-item::after {content: \"\";width: 100%;border-bottom: 1px solid gray;flex-grow: 1;}#sk-container-id-1 div.sk-label:hover label.sk-toggleable__label {background-color: #d4ebff;}#sk-container-id-1 div.sk-serial::before {content: \"\";position: absolute;border-left: 1px solid gray;box-sizing: border-box;top: 0;bottom: 0;left: 50%;z-index: 0;}#sk-container-id-1 div.sk-serial {display: flex;flex-direction: column;align-items: center;background-color: white;padding-right: 0.2em;padding-left: 0.2em;position: relative;}#sk-container-id-1 div.sk-item {position: relative;z-index: 1;}#sk-container-id-1 div.sk-parallel {display: flex;align-items: stretch;justify-content: center;background-color: white;position: relative;}#sk-container-id-1 div.sk-item::before, #sk-container-id-1 div.sk-parallel-item::before {content: \"\";position: absolute;border-left: 1px solid gray;box-sizing: border-box;top: 0;bottom: 0;left: 50%;z-index: -1;}#sk-container-id-1 div.sk-parallel-item {display: flex;flex-direction: column;z-index: 1;position: relative;background-color: white;}#sk-container-id-1 div.sk-parallel-item:first-child::after {align-self: flex-end;width: 50%;}#sk-container-id-1 div.sk-parallel-item:last-child::after {align-self: flex-start;width: 50%;}#sk-container-id-1 div.sk-parallel-item:only-child::after {width: 0;}#sk-container-id-1 div.sk-dashed-wrapped {border: 1px dashed gray;margin: 0 0.4em 0.5em 0.4em;box-sizing: border-box;padding-bottom: 0.4em;background-color: white;}#sk-container-id-1 div.sk-label label {font-family: monospace;font-weight: bold;display: inline-block;line-height: 1.2em;}#sk-container-id-1 div.sk-label-container {text-align: center;}#sk-container-id-1 div.sk-container {/* jupyter's `normalize.less` sets `[hidden] { display: none; }` but bootstrap.min.css set `[hidden] { display: none !important; }` so we also need the `!important` here to be able to override the default hidden behavior on the sphinx rendered scikit-learn.org. See: https://github.com/scikit-learn/scikit-learn/issues/21755 */display: inline-block !important;position: relative;}#sk-container-id-1 div.sk-text-repr-fallback {display: none;}</style><div id=\"sk-container-id-1\" class=\"sk-top-container\"><div class=\"sk-text-repr-fallback\"><pre>RandomForestClassifier(max_features=&#x27;auto&#x27;, random_state=0)</pre><b>In a Jupyter environment, please rerun this cell to show the HTML representation or trust the notebook. <br />On GitHub, the HTML representation is unable to render, please try loading this page with nbviewer.org.</b></div><div class=\"sk-container\" hidden><div class=\"sk-item\"><div class=\"sk-estimator sk-toggleable\"><input class=\"sk-toggleable__control sk-hidden--visually\" id=\"sk-estimator-id-1\" type=\"checkbox\" checked><label for=\"sk-estimator-id-1\" class=\"sk-toggleable__label sk-toggleable__label-arrow\">RandomForestClassifier</label><div class=\"sk-toggleable__content\"><pre>RandomForestClassifier(max_features=&#x27;auto&#x27;, random_state=0)</pre></div></div></div></div></div>"
      ],
      "text/plain": [
       "RandomForestClassifier(max_features='auto', random_state=0)"
      ]
     },
     "execution_count": 14,
     "metadata": {},
     "output_type": "execute_result"
    }
   ],
   "source": [
    "rf_clf"
   ]
  },
  {
   "cell_type": "code",
   "execution_count": 15,
   "id": "4a6a9bf4-9cb1-4043-9cf7-698e942844fb",
   "metadata": {},
   "outputs": [
    {
     "data": {
      "text/plain": [
       "array([0])"
      ]
     },
     "execution_count": 15,
     "metadata": {},
     "output_type": "execute_result"
    }
   ],
   "source": [
    "rf_clf.predict(ddd)"
   ]
  },
  {
   "cell_type": "code",
   "execution_count": 19,
   "id": "2457c2ba-880f-451e-81f8-b544f7d17e99",
   "metadata": {},
   "outputs": [
    {
     "data": {
      "text/plain": [
       "array([[0.97, 0.  , 0.03, 0.  , 0.  ]])"
      ]
     },
     "execution_count": 19,
     "metadata": {},
     "output_type": "execute_result"
    }
   ],
   "source": [
    "p = rf_clf.predict_proba(ddd)\n",
    "p"
   ]
  },
  {
   "cell_type": "code",
   "execution_count": 20,
   "id": "e04be2e8-b697-4fc2-b45e-c0f07b15f898",
   "metadata": {},
   "outputs": [
    {
     "data": {
      "text/plain": [
       "0"
      ]
     },
     "execution_count": 20,
     "metadata": {},
     "output_type": "execute_result"
    }
   ],
   "source": [
    "p.argmax()"
   ]
  },
  {
   "cell_type": "code",
   "execution_count": 28,
   "id": "24342e69-392b-4cc6-8be5-99c98dbc5f98",
   "metadata": {},
   "outputs": [
    {
     "data": {
      "text/plain": [
       "0.97"
      ]
     },
     "execution_count": 28,
     "metadata": {},
     "output_type": "execute_result"
    }
   ],
   "source": [
    "p.max()"
   ]
  },
  {
   "cell_type": "code",
   "execution_count": 38,
   "id": "6fcf8a2a-9f44-4398-b76b-4d86549ec923",
   "metadata": {},
   "outputs": [
    {
     "data": {
      "text/plain": [
       "'BENIGN'"
      ]
     },
     "execution_count": 38,
     "metadata": {},
     "output_type": "execute_result"
    }
   ],
   "source": [
    "lbl_encoder.inverse_transform([p.argmax()])[0]"
   ]
  },
  {
   "cell_type": "code",
   "execution_count": null,
   "id": "9d4bc207-ca28-4d18-b586-032bfe702966",
   "metadata": {},
   "outputs": [],
   "source": [
    "# function to get results\n",
    "def get_model_results(data_dict, model, label_encoder):\n",
    "    #convert all the data into a dataframe\n",
    "    curr_data = pd.DataFrame(data_dict, index=[0])\n",
    "    \n",
    "    #get basic information i.e destination and source ip and mac address, timestamp\n",
    "    basic_info = curr_data[['src_ip', 'dst_ip', 'src_port', 'src_mac', 'dst_mac', 'timestamp']]\n",
    "    \n",
    "    #get the information into values to be used for modelling and predict the results\n",
    "    model_pred = model.predict_proba(\n",
    "        curr_data.rename(columns=rename_cols)[train_cols].values\n",
    "    )\n",
    "    \n",
    "    #get back the model prediction and percentage predicted\n",
    "    return label_encoder.inverse_transform([model_pred.argmax()])[0], model_pred.max()\n",
    "\n",
    "\n",
    "\n",
    "# create main\n",
    "def main(sample_data):\n",
    "    # load the model\n",
    "    rf_clf = pd.read_pickle(\"./rf_clf.pkl\")\n",
    "    lbl_encoder = pd.read_pickle(\"./encoder.pkl\")\n",
    "    results = get_model_results(sample_data, rf_clf, lbl_encoder)\n",
    "    return (results)\n",
    "    \n",
    "    \n",
    "\n",
    "\n",
    "if __name__ == \"__main__\":\n",
    "    print(main(sample_data))"
   ]
  }
 ],
 "metadata": {
  "kernelspec": {
   "display_name": "Python 3",
   "language": "python",
   "name": "python3"
  },
  "language_info": {
   "codemirror_mode": {
    "name": "ipython",
    "version": 3
   },
   "file_extension": ".py",
   "mimetype": "text/x-python",
   "name": "python",
   "nbconvert_exporter": "python",
   "pygments_lexer": "ipython3",
   "version": "3.8.8"
  },
  "widgets": {
   "application/vnd.jupyter.widget-state+json": {
    "state": {},
    "version_major": 2,
    "version_minor": 0
   }
  }
 },
 "nbformat": 4,
 "nbformat_minor": 5
}
