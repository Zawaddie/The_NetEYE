{
 "cells": [
  {
   "cell_type": "code",
   "execution_count": 1,
   "id": "d1673441-575f-479f-aa84-f004a443a11f",
   "metadata": {},
   "outputs": [],
   "source": [
    "import pandas as pd\n",
    "import numpy as np"
   ]
  },
  {
   "cell_type": "code",
   "execution_count": 8,
   "id": "833d685c-ea93-4e05-83a9-7432ea7001c5",
   "metadata": {},
   "outputs": [],
   "source": [
    "\n",
    "data = {'src_ip': '127.0.0.1', 'dst_ip': '127.0.0.1', 'src_port': 42288, 'dst_port': 53, 'src_mac': '00:00:00:00:00:00', 'dst_mac': '00:00:00:00:00:00', 'protocol': 17, 'timestamp': '2023-01-19 21:10:02', 'flow_duration': 0.95367431640625, 'flow_byts_s': 157286400.0, 'flow_pkts_s': 2097152.0, 'fwd_pkts_s': 2097152.0, 'bwd_pkts_s': 0.0, 'tot_fwd_pkts': 2, 'tot_bwd_pkts': 0, 'totlen_fwd_pkts': 150, 'totlen_bwd_pkts': 0, 'fwd_pkt_len_max': 75.0, 'fwd_pkt_len_min': 75.0, 'fwd_pkt_len_mean': 75.0, 'fwd_pkt_len_std': 0.0, 'bwd_pkt_len_max': 0.0, 'bwd_pkt_len_min': 0.0, 'bwd_pkt_len_mean': 0.0, 'bwd_pkt_len_std': 0.0, 'pkt_len_max': 75, 'pkt_len_min': 75, 'pkt_len_mean': 75.0, 'pkt_len_std': 0.0, 'pkt_len_var': 0.0, 'fwd_header_len': 16, 'bwd_header_len': 0, 'fwd_seg_size_min': 8, 'fwd_act_data_pkts': 2, 'flow_iat_mean': 0.0, 'flow_iat_max': 0.0, 'flow_iat_min': 0.0, 'flow_iat_std': 0.0, 'fwd_iat_tot': 0, 'fwd_iat_max': 0.0, 'fwd_iat_min': 0.0, 'fwd_iat_mean': 0.0, 'fwd_iat_std': 0.0, 'bwd_iat_tot': 0.0, 'bwd_iat_max': 0.0, 'bwd_iat_min': 0.0, 'bwd_iat_mean': 0.0, 'bwd_iat_std': 0.0, 'fwd_psh_flags': 0, 'bwd_psh_flags': 0, 'fwd_urg_flags': 0, 'bwd_urg_flags': 0, 'fin_flag_cnt': 1, 'syn_flag_cnt': 0, 'rst_flag_cnt': 0, 'psh_flag_cnt': 0, 'ack_flag_cnt': 0, 'urg_flag_cnt': 0, 'ece_flag_cnt': 0, 'down_up_ratio': 0.0, 'pkt_size_avg': 75.0, 'init_fwd_win_byts': 0, 'init_bwd_win_byts': 0, 'active_max': 0.0, 'active_min': 0.0, 'active_mean': 0.0, 'active_std': 0.0, 'idle_max': 0.0, 'idle_min': 0.0, 'idle_mean': 0.0, 'idle_std': 0.0, 'fwd_byts_b_avg': 0.0, 'fwd_pkts_b_avg': 0.0, 'bwd_byts_b_avg': 0.0, 'bwd_pkts_b_avg': 0.0, 'fwd_blk_rate_avg': 0.0, 'bwd_blk_rate_avg': 0.0, 'fwd_seg_size_avg': 75.0, 'bwd_seg_size_avg': 0.0, 'cwe_flag_count': 0, 'subflow_fwd_pkts': 2, 'subflow_bwd_pkts': 0, 'subflow_fwd_byts': 150, 'subflow_bwd_byts': 0}\n",
    "# data"
   ]
  },
  {
   "cell_type": "code",
   "execution_count": 9,
   "id": "1c7728b0-eee3-4323-8675-d06c47d009ce",
   "metadata": {},
   "outputs": [
    {
     "data": {
      "application/javascript": [
       "\n",
       "        if (window._pyforest_update_imports_cell) { window._pyforest_update_imports_cell('import pandas as pd'); }\n",
       "    "
      ],
      "text/plain": [
       "<IPython.core.display.Javascript object>"
      ]
     },
     "metadata": {},
     "output_type": "display_data"
    },
    {
     "data": {
      "text/html": [
       "<div>\n",
       "<style scoped>\n",
       "    .dataframe tbody tr th:only-of-type {\n",
       "        vertical-align: middle;\n",
       "    }\n",
       "\n",
       "    .dataframe tbody tr th {\n",
       "        vertical-align: top;\n",
       "    }\n",
       "\n",
       "    .dataframe thead th {\n",
       "        text-align: right;\n",
       "    }\n",
       "</style>\n",
       "<table border=\"1\" class=\"dataframe\">\n",
       "  <thead>\n",
       "    <tr style=\"text-align: right;\">\n",
       "      <th></th>\n",
       "      <th>src_ip</th>\n",
       "      <th>dst_ip</th>\n",
       "      <th>src_port</th>\n",
       "      <th>dst_port</th>\n",
       "      <th>src_mac</th>\n",
       "      <th>dst_mac</th>\n",
       "      <th>protocol</th>\n",
       "      <th>timestamp</th>\n",
       "      <th>flow_duration</th>\n",
       "      <th>flow_byts_s</th>\n",
       "      <th>flow_pkts_s</th>\n",
       "      <th>fwd_pkts_s</th>\n",
       "      <th>bwd_pkts_s</th>\n",
       "      <th>tot_fwd_pkts</th>\n",
       "      <th>tot_bwd_pkts</th>\n",
       "      <th>totlen_fwd_pkts</th>\n",
       "      <th>totlen_bwd_pkts</th>\n",
       "      <th>fwd_pkt_len_max</th>\n",
       "      <th>fwd_pkt_len_min</th>\n",
       "      <th>fwd_pkt_len_mean</th>\n",
       "      <th>fwd_pkt_len_std</th>\n",
       "      <th>bwd_pkt_len_max</th>\n",
       "      <th>bwd_pkt_len_min</th>\n",
       "      <th>bwd_pkt_len_mean</th>\n",
       "      <th>bwd_pkt_len_std</th>\n",
       "      <th>pkt_len_max</th>\n",
       "      <th>pkt_len_min</th>\n",
       "      <th>pkt_len_mean</th>\n",
       "      <th>pkt_len_std</th>\n",
       "      <th>pkt_len_var</th>\n",
       "      <th>fwd_header_len</th>\n",
       "      <th>bwd_header_len</th>\n",
       "      <th>fwd_seg_size_min</th>\n",
       "      <th>fwd_act_data_pkts</th>\n",
       "      <th>flow_iat_mean</th>\n",
       "      <th>flow_iat_max</th>\n",
       "      <th>flow_iat_min</th>\n",
       "      <th>flow_iat_std</th>\n",
       "      <th>fwd_iat_tot</th>\n",
       "      <th>fwd_iat_max</th>\n",
       "      <th>fwd_iat_min</th>\n",
       "      <th>fwd_iat_mean</th>\n",
       "      <th>fwd_iat_std</th>\n",
       "      <th>bwd_iat_tot</th>\n",
       "      <th>bwd_iat_max</th>\n",
       "      <th>bwd_iat_min</th>\n",
       "      <th>bwd_iat_mean</th>\n",
       "      <th>bwd_iat_std</th>\n",
       "      <th>fwd_psh_flags</th>\n",
       "      <th>bwd_psh_flags</th>\n",
       "      <th>fwd_urg_flags</th>\n",
       "      <th>bwd_urg_flags</th>\n",
       "      <th>fin_flag_cnt</th>\n",
       "      <th>syn_flag_cnt</th>\n",
       "      <th>rst_flag_cnt</th>\n",
       "      <th>psh_flag_cnt</th>\n",
       "      <th>ack_flag_cnt</th>\n",
       "      <th>urg_flag_cnt</th>\n",
       "      <th>ece_flag_cnt</th>\n",
       "      <th>down_up_ratio</th>\n",
       "      <th>pkt_size_avg</th>\n",
       "      <th>init_fwd_win_byts</th>\n",
       "      <th>init_bwd_win_byts</th>\n",
       "      <th>active_max</th>\n",
       "      <th>active_min</th>\n",
       "      <th>active_mean</th>\n",
       "      <th>active_std</th>\n",
       "      <th>idle_max</th>\n",
       "      <th>idle_min</th>\n",
       "      <th>idle_mean</th>\n",
       "      <th>idle_std</th>\n",
       "      <th>fwd_byts_b_avg</th>\n",
       "      <th>fwd_pkts_b_avg</th>\n",
       "      <th>bwd_byts_b_avg</th>\n",
       "      <th>bwd_pkts_b_avg</th>\n",
       "      <th>fwd_blk_rate_avg</th>\n",
       "      <th>bwd_blk_rate_avg</th>\n",
       "      <th>fwd_seg_size_avg</th>\n",
       "      <th>bwd_seg_size_avg</th>\n",
       "      <th>cwe_flag_count</th>\n",
       "      <th>subflow_fwd_pkts</th>\n",
       "      <th>subflow_bwd_pkts</th>\n",
       "      <th>subflow_fwd_byts</th>\n",
       "      <th>subflow_bwd_byts</th>\n",
       "    </tr>\n",
       "  </thead>\n",
       "  <tbody>\n",
       "    <tr>\n",
       "      <th>0</th>\n",
       "      <td>127.0.0.1</td>\n",
       "      <td>127.0.0.1</td>\n",
       "      <td>42288</td>\n",
       "      <td>53</td>\n",
       "      <td>00:00:00:00:00:00</td>\n",
       "      <td>00:00:00:00:00:00</td>\n",
       "      <td>17</td>\n",
       "      <td>2023-01-19 21:10:02</td>\n",
       "      <td>0.953674</td>\n",
       "      <td>157286400.0</td>\n",
       "      <td>2097152.0</td>\n",
       "      <td>2097152.0</td>\n",
       "      <td>0.0</td>\n",
       "      <td>2</td>\n",
       "      <td>0</td>\n",
       "      <td>150</td>\n",
       "      <td>0</td>\n",
       "      <td>75.0</td>\n",
       "      <td>75.0</td>\n",
       "      <td>75.0</td>\n",
       "      <td>0.0</td>\n",
       "      <td>0.0</td>\n",
       "      <td>0.0</td>\n",
       "      <td>0.0</td>\n",
       "      <td>0.0</td>\n",
       "      <td>75</td>\n",
       "      <td>75</td>\n",
       "      <td>75.0</td>\n",
       "      <td>0.0</td>\n",
       "      <td>0.0</td>\n",
       "      <td>16</td>\n",
       "      <td>0</td>\n",
       "      <td>8</td>\n",
       "      <td>2</td>\n",
       "      <td>0.0</td>\n",
       "      <td>0.0</td>\n",
       "      <td>0.0</td>\n",
       "      <td>0.0</td>\n",
       "      <td>0</td>\n",
       "      <td>0.0</td>\n",
       "      <td>0.0</td>\n",
       "      <td>0.0</td>\n",
       "      <td>0.0</td>\n",
       "      <td>0.0</td>\n",
       "      <td>0.0</td>\n",
       "      <td>0.0</td>\n",
       "      <td>0.0</td>\n",
       "      <td>0.0</td>\n",
       "      <td>0</td>\n",
       "      <td>0</td>\n",
       "      <td>0</td>\n",
       "      <td>0</td>\n",
       "      <td>1</td>\n",
       "      <td>0</td>\n",
       "      <td>0</td>\n",
       "      <td>0</td>\n",
       "      <td>0</td>\n",
       "      <td>0</td>\n",
       "      <td>0</td>\n",
       "      <td>0.0</td>\n",
       "      <td>75.0</td>\n",
       "      <td>0</td>\n",
       "      <td>0</td>\n",
       "      <td>0.0</td>\n",
       "      <td>0.0</td>\n",
       "      <td>0.0</td>\n",
       "      <td>0.0</td>\n",
       "      <td>0.0</td>\n",
       "      <td>0.0</td>\n",
       "      <td>0.0</td>\n",
       "      <td>0.0</td>\n",
       "      <td>0.0</td>\n",
       "      <td>0.0</td>\n",
       "      <td>0.0</td>\n",
       "      <td>0.0</td>\n",
       "      <td>0.0</td>\n",
       "      <td>0.0</td>\n",
       "      <td>75.0</td>\n",
       "      <td>0.0</td>\n",
       "      <td>0</td>\n",
       "      <td>2</td>\n",
       "      <td>0</td>\n",
       "      <td>150</td>\n",
       "      <td>0</td>\n",
       "    </tr>\n",
       "  </tbody>\n",
       "</table>\n",
       "</div>"
      ],
      "text/plain": [
       "      src_ip     dst_ip  ...  subflow_fwd_byts  subflow_bwd_byts\n",
       "0  127.0.0.1  127.0.0.1  ...               150                 0\n",
       "\n",
       "[1 rows x 84 columns]"
      ]
     },
     "execution_count": 9,
     "metadata": {},
     "output_type": "execute_result"
    }
   ],
   "source": [
    "pd.DataFrame(data, index=[0])"
   ]
  },
  {
   "cell_type": "code",
   "execution_count": 7,
   "id": "8a7456c0-4684-4ab4-97fc-cfc7a6c42de8",
   "metadata": {},
   "outputs": [],
   "source": [
    "# pd.DataFrame?"
   ]
  },
  {
   "cell_type": "code",
   "execution_count": null,
   "id": "b5a4f790-a4d0-4f53-a44e-304c0ccf9d53",
   "metadata": {},
   "outputs": [],
   "source": []
  },
  {
   "cell_type": "code",
   "execution_count": null,
   "id": "129b77bf-14f0-4a53-a7b8-a89930a0cbc5",
   "metadata": {},
   "outputs": [],
   "source": []
  },
  {
   "cell_type": "code",
   "execution_count": null,
   "id": "26bf41c8-0412-4af3-9b3e-1c93decb0184",
   "metadata": {},
   "outputs": [],
   "source": []
  },
  {
   "cell_type": "code",
   "execution_count": 11,
   "id": "427ba9a0-e0ca-4087-aa57-d42dc805dd6b",
   "metadata": {},
   "outputs": [
    {
     "data": {
      "application/javascript": [
       "\n",
       "        if (window._pyforest_update_imports_cell) { window._pyforest_update_imports_cell('import pandas as pd'); }\n",
       "    "
      ],
      "text/plain": [
       "<IPython.core.display.Javascript object>"
      ]
     },
     "metadata": {},
     "output_type": "display_data"
    }
   ],
   "source": [
    "# df = pd.read_csv(\"CICIDS2017_sample.csv\")\n",
    "\n",
    "data = {'src_ip': '127.0.0.1', 'dst_ip': '127.0.0.1', 'src_port': 42288, 'dst_port': 53, 'src_mac': '00:00:00:00:00:00', 'dst_mac': '00:00:00:00:00:00', 'protocol': 17, 'timestamp': '2023-01-19 21:10:02', 'flow_duration': 0.95367431640625, 'flow_byts_s': 157286400.0, 'flow_pkts_s': 2097152.0, 'fwd_pkts_s': 2097152.0, 'bwd_pkts_s': 0.0, 'tot_fwd_pkts': 2, 'tot_bwd_pkts': 0, 'totlen_fwd_pkts': 150, 'totlen_bwd_pkts': 0, 'fwd_pkt_len_max': 75.0, 'fwd_pkt_len_min': 75.0, 'fwd_pkt_len_mean': 75.0, 'fwd_pkt_len_std': 0.0, 'bwd_pkt_len_max': 0.0, 'bwd_pkt_len_min': 0.0, 'bwd_pkt_len_mean': 0.0, 'bwd_pkt_len_std': 0.0, 'pkt_len_max': 75, 'pkt_len_min': 75, 'pkt_len_mean': 75.0, 'pkt_len_std': 0.0, 'pkt_len_var': 0.0, 'fwd_header_len': 16, 'bwd_header_len': 0, 'fwd_seg_size_min': 8, 'fwd_act_data_pkts': 2, 'flow_iat_mean': 0.0, 'flow_iat_max': 0.0, 'flow_iat_min': 0.0, 'flow_iat_std': 0.0, 'fwd_iat_tot': 0, 'fwd_iat_max': 0.0, 'fwd_iat_min': 0.0, 'fwd_iat_mean': 0.0, 'fwd_iat_std': 0.0, 'bwd_iat_tot': 0.0, 'bwd_iat_max': 0.0, 'bwd_iat_min': 0.0, 'bwd_iat_mean': 0.0, 'bwd_iat_std': 0.0, 'fwd_psh_flags': 0, 'bwd_psh_flags': 0, 'fwd_urg_flags': 0, 'bwd_urg_flags': 0, 'fin_flag_cnt': 1, 'syn_flag_cnt': 0, 'rst_flag_cnt': 0, 'psh_flag_cnt': 0, 'ack_flag_cnt': 0, 'urg_flag_cnt': 0, 'ece_flag_cnt': 0, 'down_up_ratio': 0.0, 'pkt_size_avg': 75.0, 'init_fwd_win_byts': 0, 'init_bwd_win_byts': 0, 'active_max': 0.0, 'active_min': 0.0, 'active_mean': 0.0, 'active_std': 0.0, 'idle_max': 0.0, 'idle_min': 0.0, 'idle_mean': 0.0, 'idle_std': 0.0, 'fwd_byts_b_avg': 0.0, 'fwd_pkts_b_avg': 0.0, 'bwd_byts_b_avg': 0.0, 'bwd_pkts_b_avg': 0.0, 'fwd_blk_rate_avg': 0.0, 'bwd_blk_rate_avg': 0.0, 'fwd_seg_size_avg': 75.0, 'bwd_seg_size_avg': 0.0, 'cwe_flag_count': 0, 'subflow_fwd_pkts': 2, 'subflow_bwd_pkts': 0, 'subflow_fwd_byts': 150, 'subflow_bwd_byts': 0}\n",
    "df2 = pd.DataFrame(data, index=[0])"
   ]
  },
  {
   "cell_type": "code",
   "execution_count": 12,
   "id": "45737cc1-9952-4984-afd1-18f6dbde290a",
   "metadata": {},
   "outputs": [
    {
     "data": {
      "text/html": [
       "<div>\n",
       "<style scoped>\n",
       "    .dataframe tbody tr th:only-of-type {\n",
       "        vertical-align: middle;\n",
       "    }\n",
       "\n",
       "    .dataframe tbody tr th {\n",
       "        vertical-align: top;\n",
       "    }\n",
       "\n",
       "    .dataframe thead th {\n",
       "        text-align: right;\n",
       "    }\n",
       "</style>\n",
       "<table border=\"1\" class=\"dataframe\">\n",
       "  <thead>\n",
       "    <tr style=\"text-align: right;\">\n",
       "      <th></th>\n",
       "      <th>src_ip</th>\n",
       "      <th>dst_ip</th>\n",
       "      <th>src_port</th>\n",
       "      <th>dst_port</th>\n",
       "      <th>src_mac</th>\n",
       "      <th>dst_mac</th>\n",
       "      <th>protocol</th>\n",
       "      <th>timestamp</th>\n",
       "      <th>flow_duration</th>\n",
       "      <th>flow_byts_s</th>\n",
       "      <th>flow_pkts_s</th>\n",
       "      <th>fwd_pkts_s</th>\n",
       "      <th>bwd_pkts_s</th>\n",
       "      <th>tot_fwd_pkts</th>\n",
       "      <th>tot_bwd_pkts</th>\n",
       "      <th>totlen_fwd_pkts</th>\n",
       "      <th>totlen_bwd_pkts</th>\n",
       "      <th>fwd_pkt_len_max</th>\n",
       "      <th>fwd_pkt_len_min</th>\n",
       "      <th>fwd_pkt_len_mean</th>\n",
       "      <th>fwd_pkt_len_std</th>\n",
       "      <th>bwd_pkt_len_max</th>\n",
       "      <th>bwd_pkt_len_min</th>\n",
       "      <th>bwd_pkt_len_mean</th>\n",
       "      <th>bwd_pkt_len_std</th>\n",
       "      <th>pkt_len_max</th>\n",
       "      <th>pkt_len_min</th>\n",
       "      <th>pkt_len_mean</th>\n",
       "      <th>pkt_len_std</th>\n",
       "      <th>pkt_len_var</th>\n",
       "      <th>fwd_header_len</th>\n",
       "      <th>bwd_header_len</th>\n",
       "      <th>fwd_seg_size_min</th>\n",
       "      <th>fwd_act_data_pkts</th>\n",
       "      <th>flow_iat_mean</th>\n",
       "      <th>flow_iat_max</th>\n",
       "      <th>flow_iat_min</th>\n",
       "      <th>flow_iat_std</th>\n",
       "      <th>fwd_iat_tot</th>\n",
       "      <th>fwd_iat_max</th>\n",
       "      <th>fwd_iat_min</th>\n",
       "      <th>fwd_iat_mean</th>\n",
       "      <th>fwd_iat_std</th>\n",
       "      <th>bwd_iat_tot</th>\n",
       "      <th>bwd_iat_max</th>\n",
       "      <th>bwd_iat_min</th>\n",
       "      <th>bwd_iat_mean</th>\n",
       "      <th>bwd_iat_std</th>\n",
       "      <th>fwd_psh_flags</th>\n",
       "      <th>bwd_psh_flags</th>\n",
       "      <th>fwd_urg_flags</th>\n",
       "      <th>bwd_urg_flags</th>\n",
       "      <th>fin_flag_cnt</th>\n",
       "      <th>syn_flag_cnt</th>\n",
       "      <th>rst_flag_cnt</th>\n",
       "      <th>psh_flag_cnt</th>\n",
       "      <th>ack_flag_cnt</th>\n",
       "      <th>urg_flag_cnt</th>\n",
       "      <th>ece_flag_cnt</th>\n",
       "      <th>down_up_ratio</th>\n",
       "      <th>pkt_size_avg</th>\n",
       "      <th>init_fwd_win_byts</th>\n",
       "      <th>init_bwd_win_byts</th>\n",
       "      <th>active_max</th>\n",
       "      <th>active_min</th>\n",
       "      <th>active_mean</th>\n",
       "      <th>active_std</th>\n",
       "      <th>idle_max</th>\n",
       "      <th>idle_min</th>\n",
       "      <th>idle_mean</th>\n",
       "      <th>idle_std</th>\n",
       "      <th>fwd_byts_b_avg</th>\n",
       "      <th>fwd_pkts_b_avg</th>\n",
       "      <th>bwd_byts_b_avg</th>\n",
       "      <th>bwd_pkts_b_avg</th>\n",
       "      <th>fwd_blk_rate_avg</th>\n",
       "      <th>bwd_blk_rate_avg</th>\n",
       "      <th>fwd_seg_size_avg</th>\n",
       "      <th>bwd_seg_size_avg</th>\n",
       "      <th>cwe_flag_count</th>\n",
       "      <th>subflow_fwd_pkts</th>\n",
       "      <th>subflow_bwd_pkts</th>\n",
       "      <th>subflow_fwd_byts</th>\n",
       "      <th>subflow_bwd_byts</th>\n",
       "    </tr>\n",
       "  </thead>\n",
       "  <tbody>\n",
       "    <tr>\n",
       "      <th>0</th>\n",
       "      <td>127.0.0.1</td>\n",
       "      <td>127.0.0.1</td>\n",
       "      <td>42288</td>\n",
       "      <td>53</td>\n",
       "      <td>00:00:00:00:00:00</td>\n",
       "      <td>00:00:00:00:00:00</td>\n",
       "      <td>17</td>\n",
       "      <td>2023-01-19 21:10:02</td>\n",
       "      <td>0.953674</td>\n",
       "      <td>157286400.0</td>\n",
       "      <td>2097152.0</td>\n",
       "      <td>2097152.0</td>\n",
       "      <td>0.0</td>\n",
       "      <td>2</td>\n",
       "      <td>0</td>\n",
       "      <td>150</td>\n",
       "      <td>0</td>\n",
       "      <td>75.0</td>\n",
       "      <td>75.0</td>\n",
       "      <td>75.0</td>\n",
       "      <td>0.0</td>\n",
       "      <td>0.0</td>\n",
       "      <td>0.0</td>\n",
       "      <td>0.0</td>\n",
       "      <td>0.0</td>\n",
       "      <td>75</td>\n",
       "      <td>75</td>\n",
       "      <td>75.0</td>\n",
       "      <td>0.0</td>\n",
       "      <td>0.0</td>\n",
       "      <td>16</td>\n",
       "      <td>0</td>\n",
       "      <td>8</td>\n",
       "      <td>2</td>\n",
       "      <td>0.0</td>\n",
       "      <td>0.0</td>\n",
       "      <td>0.0</td>\n",
       "      <td>0.0</td>\n",
       "      <td>0</td>\n",
       "      <td>0.0</td>\n",
       "      <td>0.0</td>\n",
       "      <td>0.0</td>\n",
       "      <td>0.0</td>\n",
       "      <td>0.0</td>\n",
       "      <td>0.0</td>\n",
       "      <td>0.0</td>\n",
       "      <td>0.0</td>\n",
       "      <td>0.0</td>\n",
       "      <td>0</td>\n",
       "      <td>0</td>\n",
       "      <td>0</td>\n",
       "      <td>0</td>\n",
       "      <td>1</td>\n",
       "      <td>0</td>\n",
       "      <td>0</td>\n",
       "      <td>0</td>\n",
       "      <td>0</td>\n",
       "      <td>0</td>\n",
       "      <td>0</td>\n",
       "      <td>0.0</td>\n",
       "      <td>75.0</td>\n",
       "      <td>0</td>\n",
       "      <td>0</td>\n",
       "      <td>0.0</td>\n",
       "      <td>0.0</td>\n",
       "      <td>0.0</td>\n",
       "      <td>0.0</td>\n",
       "      <td>0.0</td>\n",
       "      <td>0.0</td>\n",
       "      <td>0.0</td>\n",
       "      <td>0.0</td>\n",
       "      <td>0.0</td>\n",
       "      <td>0.0</td>\n",
       "      <td>0.0</td>\n",
       "      <td>0.0</td>\n",
       "      <td>0.0</td>\n",
       "      <td>0.0</td>\n",
       "      <td>75.0</td>\n",
       "      <td>0.0</td>\n",
       "      <td>0</td>\n",
       "      <td>2</td>\n",
       "      <td>0</td>\n",
       "      <td>150</td>\n",
       "      <td>0</td>\n",
       "    </tr>\n",
       "  </tbody>\n",
       "</table>\n",
       "</div>"
      ],
      "text/plain": [
       "      src_ip     dst_ip  ...  subflow_fwd_byts  subflow_bwd_byts\n",
       "0  127.0.0.1  127.0.0.1  ...               150                 0\n",
       "\n",
       "[1 rows x 84 columns]"
      ]
     },
     "execution_count": 12,
     "metadata": {},
     "output_type": "execute_result"
    }
   ],
   "source": [
    "df2"
   ]
  },
  {
   "cell_type": "code",
   "execution_count": 14,
   "id": "46f20069-6b1d-40d1-8ec6-b29f20664f0a",
   "metadata": {},
   "outputs": [],
   "source": [
    "# # in order to rename the columns\n",
    "# df_columns_mapper = {x:x.replace(\" \", \"_\").lower() for x in list(df.columns) if x.replace(\" \", \"_\").lower() in df2.columns}\n",
    "\n",
    "# df_columns_mapper.update({\n",
    "#     \"Total Fwd Packets\":\"tot_fwd_pkts\",\n",
    "#     \"Total Backward Packets\":\"tot_bwd_pkts\",\n",
    "#     \"Total Length of Fwd Packets\":\"totlen_fwd_pkts\",\n",
    "#     \"Total Length of Bwd Packets\":\"totlen_bwd_pkts\",\n",
    "#     \"Fwd Packet Length Max\":\"fwd_pkt_len_max\",\n",
    "#     \"Fwd Header Length.1\":\"protocol\",\n",
    "#     \"Fwd Packet Length Mean\":\"fwd_pkt_len_mean\",\n",
    "#     \"Fwd Packet Length Std\":\"fwd_pkt_len_std\",\n",
    "#     \"Bwd Packet Length Max\":\"bwd_pkt_len_max\",\n",
    "#     \"Bwd Packet Length Min\":\"bwd_pkt_len_min\",\n",
    "#     \"Bwd Packet Length Mean\":\"bwd_pkt_len_mean\",\n",
    "#     \"Bwd Packet Length Std\":\"bwd_pkt_len_std\",\n",
    "#     \"Flow Bytes/s\":\"flow_byts_s\",\n",
    "#     \"Flow Packets/s\":\"flow_pkts_s\",\n",
    "#     \"Fwd IAT Total\":\"fwd_iat_tot\",\n",
    "#     \"Bwd IAT Total\":\"bwd_iat_tot\",\n",
    "#     \"Fwd Header Length\":\"fwd_header_len\",\n",
    "#     \"Bwd Header Length\":\"bwd_header_len\",\n",
    "#     \"Fwd Packets/s\":\"fwd_pkts_s\",\n",
    "#     \"Bwd Packets/s\":\"bwd_pkts_s\",\n",
    "#     \"Min Packet Length\":\"pkt_len_min\",\n",
    "#     \"Max Packet Length\":\"pkt_len_max\",\n",
    "#     \"Packet Length Mean\":\"pkt_len_mean\",\n",
    "#     \"Packet Length Std\":\"pkt_len_std\",\n",
    "#     \"Packet Length Variance\":\"pkt_len_var\",\n",
    "#     \"FIN Flag Count\":\"fin_flag_cnt\",\n",
    "#     \"SYN Flag Count\":\"syn_flag_cnt\",\n",
    "#     \"RST Flag Count\":\"rst_flag_cnt\",\n",
    "#     \"PSH Flag Count\":\"psh_flag_cnt\",\n",
    "#     \"ACK Flag Count\":\"ack_flag_cnt\",\n",
    "#     \"URG Flag Count\":\"urg_flag_cnt\",\n",
    "#     \"ECE Flag Count\":\"ece_flag_cnt\",\n",
    "#     \"Down/Up Ratio\":\"down_up_ratio\",\n",
    "#     \"Average Packet Size\":\"pkt_size_avg\",\n",
    "#     \"Subflow Fwd Packets\":\"subflow_fwd_pkts\",\n",
    "#     \"Subflow Fwd Bytes\":\"subflow_fwd_byts\",\n",
    "#     \"Subflow Bwd Packets\":\"subflow_bwd_pkts\",\n",
    "#     \"Subflow Bwd Bytes\":\"subflow_bwd_byts\",\n",
    "#     \"Init_Win_bytes_forward\":\"init_fwd_win_byts\",\n",
    "#     \"Init_Win_bytes_backward\":\"init_bwd_win_byts\", \n",
    "#     \"Avg Fwd Segment Size\":\"fwd_seg_size_avg\",\n",
    "#     \"Avg Bwd Segment Size\":\"bwd_seg_size_avg\",\n",
    "#     \"min_seg_size_forward\":\"fwd_seg_size_min\",\n",
    "#     \"Fwd Avg Bytes/Bulk\":\"fwd_byts_b_avg\",\n",
    "#     \"Fwd Avg Packets/Bulk\":\"fwd_pkts_b_avg\",\n",
    "#     \"Fwd Avg Bulk Rate\":\"fwd_blk_rate_avg\",\n",
    "#     \"Bwd Avg Bytes/Bulk\":\"bwd_byts_b_avg\",\n",
    "#     \"Bwd Avg Packets/Bulk\":\"bwd_pkts_b_avg\",\n",
    "#     \"Bwd Avg Bulk Rate\":\"bwd_blk_rate_avg\",\n",
    "#     \"act_data_pkt_fwd\":\"fwd_act_data_pkts\",\n",
    "#     \"Fwd Packet Length Min\":\"fwd_pkt_len_min\",\n",
    "#     \"Destination Port\":\"dst_port\",\n",
    "    \n",
    "# })\n",
    "\n",
    "\n",
    "\n",
    "# # training columns\n",
    "# train_cols =['Destination Port', 'Flow Duration', 'Total Fwd Packets',\n",
    "#        'Total Backward Packets', 'Total Length of Fwd Packets',\n",
    "#        'Total Length of Bwd Packets', 'Fwd Packet Length Max',\n",
    "#        'Fwd Packet Length Min', 'Fwd Packet Length Mean',\n",
    "#        'Fwd Packet Length Std', 'Bwd Packet Length Max',\n",
    "#        'Bwd Packet Length Min', 'Bwd Packet Length Mean',\n",
    "#        'Bwd Packet Length Std', 'Flow Bytes/s', 'Flow Packets/s',\n",
    "#        'Flow IAT Mean', 'Flow IAT Std', 'Flow IAT Max', 'Flow IAT Min',\n",
    "#        'Fwd IAT Total', 'Fwd IAT Mean', 'Fwd IAT Std', 'Fwd IAT Max',\n",
    "#        'Fwd IAT Min', 'Bwd IAT Total', 'Bwd IAT Mean', 'Bwd IAT Std',\n",
    "#        'Bwd IAT Max', 'Bwd IAT Min', 'Fwd PSH Flags', 'Fwd URG Flags',\n",
    "#        'Fwd Header Length', 'Bwd Header Length', 'Fwd Packets/s',\n",
    "#        'Bwd Packets/s', 'Min Packet Length', 'Max Packet Length',\n",
    "#        'Packet Length Mean', 'Packet Length Std', 'Packet Length Variance',\n",
    "#        'FIN Flag Count', 'SYN Flag Count', 'RST Flag Count', 'PSH Flag Count',\n",
    "#        'ACK Flag Count', 'URG Flag Count', 'CWE Flag Count', 'ECE Flag Count',\n",
    "#        'Down/Up Ratio', 'Average Packet Size', 'Avg Fwd Segment Size',\n",
    "#        'Avg Bwd Segment Size', 'Fwd Header Length.1', 'Subflow Fwd Packets',\n",
    "#        'Subflow Fwd Bytes', 'Subflow Bwd Packets', 'Subflow Bwd Bytes',\n",
    "#        'Init_Win_bytes_forward', 'Init_Win_bytes_backward', 'act_data_pkt_fwd',\n",
    "#        'min_seg_size_forward', 'Active Mean', 'Active Std', 'Active Max',\n",
    "#        'Active Min', 'Idle Mean', 'Idle Std', 'Idle Max', 'Idle Min']\n",
    "\n",
    "\n",
    "# # rename columns\n",
    "# rename_cols = {v:k for k,v in df_columns_mapper.items()}"
   ]
  },
  {
   "cell_type": "code",
   "execution_count": 202,
   "id": "8e9fc246-1d59-43e5-93ad-56a02adc7c35",
   "metadata": {},
   "outputs": [],
   "source": [
    "# rename_cols"
   ]
  },
  {
   "cell_type": "code",
   "execution_count": 203,
   "id": "ef5d885f-826f-4fea-a0c1-59e0f7fd1455",
   "metadata": {},
   "outputs": [
    {
     "data": {
      "text/plain": [
       "['src_ip', 'dst_ip', 'src_port', 'src_mac', 'dst_mac', 'timestamp']"
      ]
     },
     "execution_count": 203,
     "metadata": {},
     "output_type": "execute_result"
    }
   ],
   "source": [
    "[x for x in df2.columns if x not in list(df_columns_mapper.values())]"
   ]
  },
  {
   "cell_type": "code",
   "execution_count": 204,
   "id": "0e40014c-9b86-4e68-85ab-3c538aa29756",
   "metadata": {},
   "outputs": [],
   "source": [
    "# tt[[x for x in df2.columns if x not in list(res.values())]]"
   ]
  },
  {
   "cell_type": "code",
   "execution_count": 205,
   "id": "3d1fec98-bbd0-4b91-a5e0-f9c54f0b5d13",
   "metadata": {},
   "outputs": [],
   "source": [
    "# [x for x in df_columns_mapper.keys() if x not in train_cols]"
   ]
  },
  {
   "cell_type": "code",
   "execution_count": 206,
   "id": "e84d6f1d-6ed8-4c5d-bf4c-d4c32ebfe50d",
   "metadata": {},
   "outputs": [
    {
     "data": {
      "text/plain": [
       "['src_ip', 'dst_ip', 'src_port', 'src_mac', 'dst_mac', 'timestamp']"
      ]
     },
     "execution_count": 206,
     "metadata": {},
     "output_type": "execute_result"
    }
   ],
   "source": [
    "[x for x in data.keys() if x not in df_columns_mapper.values()]"
   ]
  },
  {
   "cell_type": "code",
   "execution_count": null,
   "id": "586ae8aa-c1c1-432f-9c85-b2028223f5f1",
   "metadata": {},
   "outputs": [],
   "source": []
  },
  {
   "cell_type": "code",
   "execution_count": 196,
   "id": "0216b416-9539-4b42-8c46-2e0bf2955b23",
   "metadata": {},
   "outputs": [],
   "source": [
    "def get_model_results(data_dict, model, label_encoder):\n",
    "    #convert all the data into a dataframe\n",
    "    curr_data = pd.DataFrame(data_dict, index=[0])\n",
    "    \n",
    "    #get basic information i.e destination and source ip and mac address, timestamp\n",
    "    basic_info = curr_data[['src_ip', 'dst_ip', 'src_port', 'src_mac', 'dst_mac', 'timestamp']]\n",
    "    \n",
    "    #get the information into values to be used for modelling and predict the results\n",
    "    model_pred = model.predict_proba(curr_data.rename(columns=rename_cols)[train_cols].values)\n",
    "    \n",
    "    #get back the model prediction and percentage predicted\n",
    "    return label_encoder.inverse_transform([model_pred.argmax()])[0], model_pred.max()"
   ]
  },
  {
   "cell_type": "code",
   "execution_count": 197,
   "id": "00dbf7b8-a66b-4e45-9379-0e426b2cd71b",
   "metadata": {},
   "outputs": [],
   "source": [
    "# load the model\n",
    "rf_clf = pd.read_pickle(\"./rf_clf.pkl\")\n",
    "lbl_encoder = pd.read_pickle(\"./encoder.pkl\")"
   ]
  },
  {
   "cell_type": "code",
   "execution_count": 198,
   "id": "e627f0bf-7eee-499d-80eb-0b01e1b6c990",
   "metadata": {},
   "outputs": [
    {
     "data": {
      "text/plain": [
       "('BENIGN', 0.97)"
      ]
     },
     "execution_count": 198,
     "metadata": {},
     "output_type": "execute_result"
    }
   ],
   "source": [
    "get_model_results(data, rf_clf, lbl_encoder)"
   ]
  },
  {
   "cell_type": "code",
   "execution_count": null,
   "id": "982f16c3-59df-4576-8c65-c9b09d189f58",
   "metadata": {},
   "outputs": [],
   "source": []
  },
  {
   "cell_type": "code",
   "execution_count": 8,
   "id": "18f949e5-04ac-47ad-a39b-3078961c750e",
   "metadata": {},
   "outputs": [
    {
     "data": {
      "text/plain": [
       "0.14285714285714285"
      ]
     },
     "execution_count": 8,
     "metadata": {},
     "output_type": "execute_result"
    }
   ],
   "source": [
    "1/7"
   ]
  },
  {
   "cell_type": "code",
   "execution_count": 9,
   "id": "1dd1f971-4259-406e-98d1-edd0421b2ab9",
   "metadata": {},
   "outputs": [
    {
     "data": {
      "text/plain": [
       "{'1': 3}"
      ]
     },
     "execution_count": 9,
     "metadata": {},
     "output_type": "execute_result"
    }
   ],
   "source": [
    "{\n",
    "    \"1\":3\n",
    "}"
   ]
  },
  {
   "cell_type": "code",
   "execution_count": null,
   "id": "f59c949d-2602-465f-854c-444f4ac581f6",
   "metadata": {},
   "outputs": [],
   "source": []
  }
 ],
 "metadata": {
  "kernelspec": {
   "display_name": "Python 3",
   "language": "python",
   "name": "python3"
  },
  "language_info": {
   "codemirror_mode": {
    "name": "ipython",
    "version": 3
   },
   "file_extension": ".py",
   "mimetype": "text/x-python",
   "name": "python",
   "nbconvert_exporter": "python",
   "pygments_lexer": "ipython3",
   "version": "3.8.8"
  },
  "widgets": {
   "application/vnd.jupyter.widget-state+json": {
    "state": {},
    "version_major": 2,
    "version_minor": 0
   }
  }
 },
 "nbformat": 4,
 "nbformat_minor": 5
}
